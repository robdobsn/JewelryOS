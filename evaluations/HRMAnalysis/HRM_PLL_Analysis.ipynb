{
 "cells": [
  {
   "cell_type": "code",
   "execution_count": 6,
   "metadata": {},
   "outputs": [],
   "source": [
    "input_file = \"data/20240518_1_HRM_ADC_FromMAX30101.csv\"\n"
   ]
  },
  {
   "cell_type": "code",
   "execution_count": 7,
   "metadata": {},
   "outputs": [
    {
     "name": "stdout",
     "output_type": "stream",
     "text": [
      "Output written to data/20240518_1_HRM_ADC_FromMAX30101.csv_PROCESSED.csv\n"
     ]
    },
    {
     "data": {
      "text/plain": [
       "CompletedProcess(args=['./HRMAnalysisCPPCLI/HRMAnalysisCPPCLI', 'data/20240518_1_HRM_ADC_FromMAX30101.csv', 'data/20240518_1_HRM_ADC_FromMAX30101.csv_PROCESSED.csv'], returncode=0)"
      ]
     },
     "execution_count": 7,
     "metadata": {},
     "output_type": "execute_result"
    }
   ],
   "source": [
    "# Run analysis CLI program in HRMAnalysisCPPCLI folder and called HRMAnalysisCPPCLI\n",
    "# The program takes two params: the input file and the output file\n",
    "import subprocess\n",
    "subprocess.run([\"./HRMAnalysisCPPCLI/HRMAnalysisCPPCLI\", input_file, input_file + \"_PROCESSED.csv\"])\n"
   ]
  },
  {
   "cell_type": "code",
   "execution_count": null,
   "metadata": {},
   "outputs": [],
   "source": []
  }
 ],
 "metadata": {
  "kernelspec": {
   "display_name": "Python 3",
   "language": "python",
   "name": "python3"
  },
  "language_info": {
   "codemirror_mode": {
    "name": "ipython",
    "version": 3
   },
   "file_extension": ".py",
   "mimetype": "text/x-python",
   "name": "python",
   "nbconvert_exporter": "python",
   "pygments_lexer": "ipython3",
   "version": "3.10.12"
  }
 },
 "nbformat": 4,
 "nbformat_minor": 2
}
